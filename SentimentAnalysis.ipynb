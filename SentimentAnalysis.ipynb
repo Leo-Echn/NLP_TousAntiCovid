{
  "nbformat": 4,
  "nbformat_minor": 0,
  "metadata": {
    "colab": {
      "provenance": []
    },
    "kernelspec": {
      "name": "python3",
      "display_name": "Python 3"
    },
    "language_info": {
      "name": "python"
    },
    "accelerator": "GPU"
  },
  "cells": [
    {
      "cell_type": "code",
      "source": [
        "from google.colab import drive\n",
        "drive.mount('/content/drive')"
      ],
      "metadata": {
        "colab": {
          "base_uri": "https://localhost:8080/"
        },
        "id": "Po-YEaRR3Otx",
        "outputId": "2e296dbd-7be4-470b-e660-9e2ca6d1a72a"
      },
      "execution_count": null,
      "outputs": [
        {
          "output_type": "stream",
          "name": "stdout",
          "text": [
            "Mounted at /content/drive\n"
          ]
        }
      ]
    },
    {
      "cell_type": "code",
      "execution_count": null,
      "metadata": {
        "colab": {
          "base_uri": "https://localhost:8080/"
        },
        "id": "L__9a7MBySDD",
        "outputId": "c53f7d85-881a-4b58-dda0-a896295582c9"
      },
      "outputs": [
        {
          "output_type": "stream",
          "name": "stdout",
          "text": [
            "                                                     App  \\\n",
            "1388                                         8 Ball Pool   \n",
            "16807                           Booking.com Travel Deals   \n",
            "39042                     Eat Fit - Diet and Health Free   \n",
            "7897                               Animated Photo Editor   \n",
            "63459  Horoscopes – Daily Zodiac Horoscope and Astrology   \n",
            "...                                                  ...   \n",
            "11277  Baby ABC in box! Kids alphabet games for toddl...   \n",
            "4480                                Advanced Task Killer   \n",
            "3377                                 ASUS Sound Recorder   \n",
            "10567                        BBW Dating & Plus Size Chat   \n",
            "59091                                        HTC Gallery   \n",
            "\n",
            "                                       Translated_Review Sentiment  \\\n",
            "1388   I really enjoy playing. Great graphics. Never ...  Positive   \n",
            "16807  I lost $200 app, I choose Araras hotel due pic...  Positive   \n",
            "39042  Great idea content really there. This great id...  Positive   \n",
            "7897                                           Holy Juer   Neutral   \n",
            "63459                       It's good I can't 2018 exist  Positive   \n",
            "...                                                  ...       ...   \n",
            "11277  Its amazing sometimes freeze stop working till...  Positive   \n",
            "4480   This BEST task killer UNTIL I updated phone. T...  Positive   \n",
            "3377                                                Nice  Positive   \n",
            "10567                                     It really nice  Positive   \n",
            "59091  Photo editor work!!! The first time I tried fe...  Positive   \n",
            "\n",
            "       Sentiment_Polarity  Sentiment_Subjectivity  \n",
            "1388             0.133333                0.716667  \n",
            "16807            0.045833                0.495833  \n",
            "39042            0.400000                0.664286  \n",
            "7897             0.000000                0.000000  \n",
            "63459            0.700000                0.600000  \n",
            "...                   ...                     ...  \n",
            "11277            0.600000                0.900000  \n",
            "4480             0.152222                0.587778  \n",
            "3377             0.600000                1.000000  \n",
            "10567            0.600000                1.000000  \n",
            "59091            0.106667                0.606667  \n",
            "\n",
            "[18714 rows x 5 columns]\n"
          ]
        },
        {
          "output_type": "stream",
          "name": "stdout",
          "text": []
        }
      ],
      "source": [
        "#!export CUDA_VISIBLE_DEVICES=1\n",
        "import pandas as pd\n",
        "import nltk #Natural Language Toolkit\n",
        "import numpy as np\n",
        "google=pd.read_csv(\"/content/drive/MyDrive/masterthesis/googleplaystore_user_reviews.csv\")\n",
        "#google=pd.read_csv(\"E:/TSINGHUA AUTUMN SEMESTER/Machine Learning/NLP_Project/IMBD_Dataset.csv\")\n",
        "google.head()\n",
        "index_with_nan = google.index[google.isnull().any(axis=1)]\n",
        "google.drop(index_with_nan,0, inplace=True)\n",
        "google = google.sample(frac=0.5)\n",
        "#google.drop(google.index[10000:64230],0,inplace=True)\n",
        "print(google)"
      ]
    },
    {
      "cell_type": "code",
      "source": [
        "text=google['Translated_Review']\n",
        "print(text)\n",
        "print(google['Sentiment'])\n",
        "text.shape[0]"
      ],
      "metadata": {
        "colab": {
          "base_uri": "https://localhost:8080/"
        },
        "id": "X0yhnY1zyaF8",
        "outputId": "8712039d-33a1-416d-963d-b2f6d132ee6b"
      },
      "execution_count": null,
      "outputs": [
        {
          "output_type": "stream",
          "name": "stdout",
          "text": [
            "1388     I really enjoy playing. Great graphics. Never ...\n",
            "16807    I lost $200 app, I choose Araras hotel due pic...\n",
            "39042    Great idea content really there. This great id...\n",
            "7897                                             Holy Juer\n",
            "63459                         It's good I can't 2018 exist\n",
            "                               ...                        \n",
            "11277    Its amazing sometimes freeze stop working till...\n",
            "4480     This BEST task killer UNTIL I updated phone. T...\n",
            "3377                                                  Nice\n",
            "10567                                       It really nice\n",
            "59091    Photo editor work!!! The first time I tried fe...\n",
            "Name: Translated_Review, Length: 18714, dtype: object\n",
            "1388     Positive\n",
            "16807    Positive\n",
            "39042    Positive\n",
            "7897      Neutral\n",
            "63459    Positive\n",
            "           ...   \n",
            "11277    Positive\n",
            "4480     Positive\n",
            "3377     Positive\n",
            "10567    Positive\n",
            "59091    Positive\n",
            "Name: Sentiment, Length: 18714, dtype: object\n"
          ]
        },
        {
          "output_type": "execute_result",
          "data": {
            "text/plain": [
              "18714"
            ]
          },
          "metadata": {},
          "execution_count": 150
        }
      ]
    },
    {
      "cell_type": "code",
      "source": [
        "import re #Regular Expression\n",
        "\n",
        "nltk.download('stopwords')\n",
        "nltk.download('wordnet')\n",
        "from nltk.corpus import stopwords\n",
        "from nltk.stem.porter import PorterStemmer\n",
        "from nltk.stem.wordnet import WordNetLemmatizer\n",
        "\n",
        "stop_words = stopwords.words('english')\n",
        "stop_words.remove('not')"
      ],
      "metadata": {
        "colab": {
          "base_uri": "https://localhost:8080/"
        },
        "id": "_c8FL36mybmT",
        "outputId": "45f5c9c6-8a04-4225-dfb9-137ee8d9b955"
      },
      "execution_count": null,
      "outputs": [
        {
          "output_type": "stream",
          "name": "stderr",
          "text": [
            "[nltk_data] Downloading package stopwords to /root/nltk_data...\n",
            "[nltk_data]   Package stopwords is already up-to-date!\n",
            "[nltk_data] Downloading package wordnet to /root/nltk_data...\n",
            "[nltk_data]   Package wordnet is already up-to-date!\n"
          ]
        }
      ]
    },
    {
      "cell_type": "code",
      "source": [
        "import string\n",
        "punct=string.punctuation\n",
        "nltk.download('omw-1.4')"
      ],
      "metadata": {
        "id": "iLBIH8zTyc84",
        "colab": {
          "base_uri": "https://localhost:8080/"
        },
        "outputId": "3942902e-d72c-4be4-909a-94ae803dc46c"
      },
      "execution_count": null,
      "outputs": [
        {
          "output_type": "stream",
          "name": "stderr",
          "text": [
            "[nltk_data] Downloading package omw-1.4 to /root/nltk_data...\n",
            "[nltk_data]   Package omw-1.4 is already up-to-date!\n"
          ]
        },
        {
          "output_type": "execute_result",
          "data": {
            "text/plain": [
              "True"
            ]
          },
          "metadata": {},
          "execution_count": 152
        }
      ]
    },
    {
      "cell_type": "code",
      "source": [
        "cleanedtext=[]\n",
        "for i in range (len(text)):\n",
        "    review=re.sub('[^a-zA-Z]', ' ', str(text.iloc[i])) #if not str(text[i]) --> expected string or bytes-like object sub(pattern, repl, string, count, flags)\n",
        "    review=review.lower().split()  # .str.lower() ? \n",
        "    #review=[PorterStemmer().stem(word) for word in review if (word not in stop_words) and (word not in punct)]\n",
        "    review=[WordNetLemmatizer().lemmatize(word) for word in review if (word not in stop_words) and (word not in punct)]\n",
        "    review=' '.join(review)\n",
        "    cleanedtext.append(review)"
      ],
      "metadata": {
        "id": "Ky6V4_q0yeJm"
      },
      "execution_count": null,
      "outputs": []
    },
    {
      "cell_type": "code",
      "source": [
        "google['Sentiment']=google.Sentiment.astype('category')"
      ],
      "metadata": {
        "id": "FKP8d057yfVD"
      },
      "execution_count": null,
      "outputs": []
    },
    {
      "cell_type": "code",
      "source": [
        "google.info()\n",
        "google.Sentiment.unique"
      ],
      "metadata": {
        "colab": {
          "base_uri": "https://localhost:8080/"
        },
        "id": "6OcGAXCBygai",
        "outputId": "eb46243d-b89d-47d2-e6e9-ce89953b74a8"
      },
      "execution_count": null,
      "outputs": [
        {
          "output_type": "stream",
          "name": "stdout",
          "text": [
            "<class 'pandas.core.frame.DataFrame'>\n",
            "Int64Index: 18714 entries, 1388 to 59091\n",
            "Data columns (total 5 columns):\n",
            " #   Column                  Non-Null Count  Dtype   \n",
            "---  ------                  --------------  -----   \n",
            " 0   App                     18714 non-null  object  \n",
            " 1   Translated_Review       18714 non-null  object  \n",
            " 2   Sentiment               18714 non-null  category\n",
            " 3   Sentiment_Polarity      18714 non-null  float64 \n",
            " 4   Sentiment_Subjectivity  18714 non-null  float64 \n",
            "dtypes: category(1), float64(2), object(2)\n",
            "memory usage: 749.4+ KB\n"
          ]
        },
        {
          "output_type": "execute_result",
          "data": {
            "text/plain": [
              "<bound method Series.unique of 1388     Positive\n",
              "16807    Positive\n",
              "39042    Positive\n",
              "7897      Neutral\n",
              "63459    Positive\n",
              "           ...   \n",
              "11277    Positive\n",
              "4480     Positive\n",
              "3377     Positive\n",
              "10567    Positive\n",
              "59091    Positive\n",
              "Name: Sentiment, Length: 18714, dtype: category\n",
              "Categories (3, object): ['Negative', 'Neutral', 'Positive']>"
            ]
          },
          "metadata": {},
          "execution_count": 155
        }
      ]
    },
    {
      "cell_type": "code",
      "source": [
        "google.Sentiment.cat.codes"
      ],
      "metadata": {
        "colab": {
          "base_uri": "https://localhost:8080/"
        },
        "id": "oZnJRBcoyhlk",
        "outputId": "1bf11901-3033-4bc1-9786-877e6e3a852a"
      },
      "execution_count": null,
      "outputs": [
        {
          "output_type": "execute_result",
          "data": {
            "text/plain": [
              "1388     2\n",
              "16807    2\n",
              "39042    2\n",
              "7897     1\n",
              "63459    2\n",
              "        ..\n",
              "11277    2\n",
              "4480     2\n",
              "3377     2\n",
              "10567    2\n",
              "59091    2\n",
              "Length: 18714, dtype: int8"
            ]
          },
          "metadata": {},
          "execution_count": 156
        }
      ]
    },
    {
      "cell_type": "code",
      "source": [
        "google['Sentiment']=google.Sentiment.cat.codes\n",
        "google.Sentiment"
      ],
      "metadata": {
        "colab": {
          "base_uri": "https://localhost:8080/"
        },
        "id": "iSXkaNIWyiuj",
        "outputId": "65111db1-9024-4163-faf5-beb3e933783a"
      },
      "execution_count": null,
      "outputs": [
        {
          "output_type": "execute_result",
          "data": {
            "text/plain": [
              "1388     2\n",
              "16807    2\n",
              "39042    2\n",
              "7897     1\n",
              "63459    2\n",
              "        ..\n",
              "11277    2\n",
              "4480     2\n",
              "3377     2\n",
              "10567    2\n",
              "59091    2\n",
              "Name: Sentiment, Length: 18714, dtype: int8"
            ]
          },
          "metadata": {},
          "execution_count": 157
        }
      ]
    },
    {
      "cell_type": "code",
      "source": [
        "google.head()"
      ],
      "metadata": {
        "colab": {
          "base_uri": "https://localhost:8080/",
          "height": 285
        },
        "id": "W5NEoKgpyj1T",
        "outputId": "42fcff6d-f2a4-4284-d79d-60b2b81c56bb"
      },
      "execution_count": null,
      "outputs": [
        {
          "output_type": "execute_result",
          "data": {
            "text/plain": [
              "                                                     App  \\\n",
              "1388                                         8 Ball Pool   \n",
              "16807                           Booking.com Travel Deals   \n",
              "39042                     Eat Fit - Diet and Health Free   \n",
              "7897                               Animated Photo Editor   \n",
              "63459  Horoscopes – Daily Zodiac Horoscope and Astrology   \n",
              "\n",
              "                                       Translated_Review  Sentiment  \\\n",
              "1388   I really enjoy playing. Great graphics. Never ...          2   \n",
              "16807  I lost $200 app, I choose Araras hotel due pic...          2   \n",
              "39042  Great idea content really there. This great id...          2   \n",
              "7897                                           Holy Juer          1   \n",
              "63459                       It's good I can't 2018 exist          2   \n",
              "\n",
              "       Sentiment_Polarity  Sentiment_Subjectivity  \n",
              "1388             0.133333                0.716667  \n",
              "16807            0.045833                0.495833  \n",
              "39042            0.400000                0.664286  \n",
              "7897             0.000000                0.000000  \n",
              "63459            0.700000                0.600000  "
            ],
            "text/html": [
              "\n",
              "  <div id=\"df-b7a8c4ff-be9a-432d-98eb-5fa1537f15f9\">\n",
              "    <div class=\"colab-df-container\">\n",
              "      <div>\n",
              "<style scoped>\n",
              "    .dataframe tbody tr th:only-of-type {\n",
              "        vertical-align: middle;\n",
              "    }\n",
              "\n",
              "    .dataframe tbody tr th {\n",
              "        vertical-align: top;\n",
              "    }\n",
              "\n",
              "    .dataframe thead th {\n",
              "        text-align: right;\n",
              "    }\n",
              "</style>\n",
              "<table border=\"1\" class=\"dataframe\">\n",
              "  <thead>\n",
              "    <tr style=\"text-align: right;\">\n",
              "      <th></th>\n",
              "      <th>App</th>\n",
              "      <th>Translated_Review</th>\n",
              "      <th>Sentiment</th>\n",
              "      <th>Sentiment_Polarity</th>\n",
              "      <th>Sentiment_Subjectivity</th>\n",
              "    </tr>\n",
              "  </thead>\n",
              "  <tbody>\n",
              "    <tr>\n",
              "      <th>1388</th>\n",
              "      <td>8 Ball Pool</td>\n",
              "      <td>I really enjoy playing. Great graphics. Never ...</td>\n",
              "      <td>2</td>\n",
              "      <td>0.133333</td>\n",
              "      <td>0.716667</td>\n",
              "    </tr>\n",
              "    <tr>\n",
              "      <th>16807</th>\n",
              "      <td>Booking.com Travel Deals</td>\n",
              "      <td>I lost $200 app, I choose Araras hotel due pic...</td>\n",
              "      <td>2</td>\n",
              "      <td>0.045833</td>\n",
              "      <td>0.495833</td>\n",
              "    </tr>\n",
              "    <tr>\n",
              "      <th>39042</th>\n",
              "      <td>Eat Fit - Diet and Health Free</td>\n",
              "      <td>Great idea content really there. This great id...</td>\n",
              "      <td>2</td>\n",
              "      <td>0.400000</td>\n",
              "      <td>0.664286</td>\n",
              "    </tr>\n",
              "    <tr>\n",
              "      <th>7897</th>\n",
              "      <td>Animated Photo Editor</td>\n",
              "      <td>Holy Juer</td>\n",
              "      <td>1</td>\n",
              "      <td>0.000000</td>\n",
              "      <td>0.000000</td>\n",
              "    </tr>\n",
              "    <tr>\n",
              "      <th>63459</th>\n",
              "      <td>Horoscopes – Daily Zodiac Horoscope and Astrology</td>\n",
              "      <td>It's good I can't 2018 exist</td>\n",
              "      <td>2</td>\n",
              "      <td>0.700000</td>\n",
              "      <td>0.600000</td>\n",
              "    </tr>\n",
              "  </tbody>\n",
              "</table>\n",
              "</div>\n",
              "      <button class=\"colab-df-convert\" onclick=\"convertToInteractive('df-b7a8c4ff-be9a-432d-98eb-5fa1537f15f9')\"\n",
              "              title=\"Convert this dataframe to an interactive table.\"\n",
              "              style=\"display:none;\">\n",
              "        \n",
              "  <svg xmlns=\"http://www.w3.org/2000/svg\" height=\"24px\"viewBox=\"0 0 24 24\"\n",
              "       width=\"24px\">\n",
              "    <path d=\"M0 0h24v24H0V0z\" fill=\"none\"/>\n",
              "    <path d=\"M18.56 5.44l.94 2.06.94-2.06 2.06-.94-2.06-.94-.94-2.06-.94 2.06-2.06.94zm-11 1L8.5 8.5l.94-2.06 2.06-.94-2.06-.94L8.5 2.5l-.94 2.06-2.06.94zm10 10l.94 2.06.94-2.06 2.06-.94-2.06-.94-.94-2.06-.94 2.06-2.06.94z\"/><path d=\"M17.41 7.96l-1.37-1.37c-.4-.4-.92-.59-1.43-.59-.52 0-1.04.2-1.43.59L10.3 9.45l-7.72 7.72c-.78.78-.78 2.05 0 2.83L4 21.41c.39.39.9.59 1.41.59.51 0 1.02-.2 1.41-.59l7.78-7.78 2.81-2.81c.8-.78.8-2.07 0-2.86zM5.41 20L4 18.59l7.72-7.72 1.47 1.35L5.41 20z\"/>\n",
              "  </svg>\n",
              "      </button>\n",
              "      \n",
              "  <style>\n",
              "    .colab-df-container {\n",
              "      display:flex;\n",
              "      flex-wrap:wrap;\n",
              "      gap: 12px;\n",
              "    }\n",
              "\n",
              "    .colab-df-convert {\n",
              "      background-color: #E8F0FE;\n",
              "      border: none;\n",
              "      border-radius: 50%;\n",
              "      cursor: pointer;\n",
              "      display: none;\n",
              "      fill: #1967D2;\n",
              "      height: 32px;\n",
              "      padding: 0 0 0 0;\n",
              "      width: 32px;\n",
              "    }\n",
              "\n",
              "    .colab-df-convert:hover {\n",
              "      background-color: #E2EBFA;\n",
              "      box-shadow: 0px 1px 2px rgba(60, 64, 67, 0.3), 0px 1px 3px 1px rgba(60, 64, 67, 0.15);\n",
              "      fill: #174EA6;\n",
              "    }\n",
              "\n",
              "    [theme=dark] .colab-df-convert {\n",
              "      background-color: #3B4455;\n",
              "      fill: #D2E3FC;\n",
              "    }\n",
              "\n",
              "    [theme=dark] .colab-df-convert:hover {\n",
              "      background-color: #434B5C;\n",
              "      box-shadow: 0px 1px 3px 1px rgba(0, 0, 0, 0.15);\n",
              "      filter: drop-shadow(0px 1px 2px rgba(0, 0, 0, 0.3));\n",
              "      fill: #FFFFFF;\n",
              "    }\n",
              "  </style>\n",
              "\n",
              "      <script>\n",
              "        const buttonEl =\n",
              "          document.querySelector('#df-b7a8c4ff-be9a-432d-98eb-5fa1537f15f9 button.colab-df-convert');\n",
              "        buttonEl.style.display =\n",
              "          google.colab.kernel.accessAllowed ? 'block' : 'none';\n",
              "\n",
              "        async function convertToInteractive(key) {\n",
              "          const element = document.querySelector('#df-b7a8c4ff-be9a-432d-98eb-5fa1537f15f9');\n",
              "          const dataTable =\n",
              "            await google.colab.kernel.invokeFunction('convertToInteractive',\n",
              "                                                     [key], {});\n",
              "          if (!dataTable) return;\n",
              "\n",
              "          const docLinkHtml = 'Like what you see? Visit the ' +\n",
              "            '<a target=\"_blank\" href=https://colab.research.google.com/notebooks/data_table.ipynb>data table notebook</a>'\n",
              "            + ' to learn more about interactive tables.';\n",
              "          element.innerHTML = '';\n",
              "          dataTable['output_type'] = 'display_data';\n",
              "          await google.colab.output.renderOutput(dataTable, element);\n",
              "          const docLink = document.createElement('div');\n",
              "          docLink.innerHTML = docLinkHtml;\n",
              "          element.appendChild(docLink);\n",
              "        }\n",
              "      </script>\n",
              "    </div>\n",
              "  </div>\n",
              "  "
            ]
          },
          "metadata": {},
          "execution_count": 158
        }
      ]
    },
    {
      "cell_type": "code",
      "source": [
        "!pip install transformers\n",
        "\n",
        "from transformers import AutoTokenizer, TFAutoModelForSequenceClassification, TFDistilBertForSequenceClassification\n",
        "num_classes = 3\n",
        "tokenizer = AutoTokenizer.from_pretrained('distilbert-base-uncased')\n",
        "model = TFDistilBertForSequenceClassification.from_pretrained('distilbert-base-uncased', num_labels=num_classes)"
      ],
      "metadata": {
        "colab": {
          "base_uri": "https://localhost:8080/"
        },
        "id": "ejpuJWM9yk-O",
        "outputId": "292b19b1-1242-4318-f7bb-7ed4bd121f46"
      },
      "execution_count": null,
      "outputs": [
        {
          "output_type": "stream",
          "name": "stdout",
          "text": [
            "Looking in indexes: https://pypi.org/simple, https://us-python.pkg.dev/colab-wheels/public/simple/\n",
            "Requirement already satisfied: transformers in /usr/local/lib/python3.9/dist-packages (4.27.1)\n",
            "Requirement already satisfied: pyyaml>=5.1 in /usr/local/lib/python3.9/dist-packages (from transformers) (6.0)\n",
            "Requirement already satisfied: packaging>=20.0 in /usr/local/lib/python3.9/dist-packages (from transformers) (23.0)\n",
            "Requirement already satisfied: filelock in /usr/local/lib/python3.9/dist-packages (from transformers) (3.9.0)\n",
            "Requirement already satisfied: tokenizers!=0.11.3,<0.14,>=0.11.1 in /usr/local/lib/python3.9/dist-packages (from transformers) (0.13.2)\n",
            "Requirement already satisfied: regex!=2019.12.17 in /usr/local/lib/python3.9/dist-packages (from transformers) (2022.6.2)\n",
            "Requirement already satisfied: tqdm>=4.27 in /usr/local/lib/python3.9/dist-packages (from transformers) (4.65.0)\n",
            "Requirement already satisfied: numpy>=1.17 in /usr/local/lib/python3.9/dist-packages (from transformers) (1.22.4)\n",
            "Requirement already satisfied: requests in /usr/local/lib/python3.9/dist-packages (from transformers) (2.25.1)\n",
            "Requirement already satisfied: huggingface-hub<1.0,>=0.11.0 in /usr/local/lib/python3.9/dist-packages (from transformers) (0.13.2)\n",
            "Requirement already satisfied: typing-extensions>=3.7.4.3 in /usr/local/lib/python3.9/dist-packages (from huggingface-hub<1.0,>=0.11.0->transformers) (4.5.0)\n",
            "Requirement already satisfied: idna<3,>=2.5 in /usr/local/lib/python3.9/dist-packages (from requests->transformers) (2.10)\n",
            "Requirement already satisfied: certifi>=2017.4.17 in /usr/local/lib/python3.9/dist-packages (from requests->transformers) (2022.12.7)\n",
            "Requirement already satisfied: chardet<5,>=3.0.2 in /usr/local/lib/python3.9/dist-packages (from requests->transformers) (4.0.0)\n",
            "Requirement already satisfied: urllib3<1.27,>=1.21.1 in /usr/local/lib/python3.9/dist-packages (from requests->transformers) (1.26.15)\n"
          ]
        },
        {
          "output_type": "stream",
          "name": "stderr",
          "text": []
        }
      ]
    },
    {
      "cell_type": "code",
      "source": [
        "# specify the directory path where you want to save the model and tokenizer\n",
        "dir_path = '/content/drive/MyDrive/masterthesis/'\n",
        "\n",
        "# save the tokenizer\n",
        "tokenizer.save_pretrained(dir_path + 'bert-tokenizer')\n",
        "\n",
        "# save the model\n",
        "model.save_pretrained(dir_path + 'bert-model')"
      ],
      "metadata": {
        "id": "ScvTYqrbymPO"
      },
      "execution_count": null,
      "outputs": []
    },
    {
      "cell_type": "code",
      "source": [
        "google_cleaned=google.copy()\n",
        "google_cleaned=google_cleaned[['Translated_Review','Sentiment']]\n",
        "google_cleaned['Translated_Review']=cleanedtext\n",
        "google_cleaned.head()"
      ],
      "metadata": {
        "colab": {
          "base_uri": "https://localhost:8080/",
          "height": 206
        },
        "id": "EUDRSDiqynQL",
        "outputId": "69307273-1566-4feb-fab3-b4124cbcfdc7"
      },
      "execution_count": null,
      "outputs": [
        {
          "output_type": "execute_result",
          "data": {
            "text/plain": [
              "                                       Translated_Review  Sentiment\n",
              "1388   really enjoy playing great graphic never probl...          2\n",
              "16807  lost app choose araras hotel due picture booki...          2\n",
              "39042  great idea content really great idea app like ...          2\n",
              "7897                                           holy juer          1\n",
              "63459                                         good exist          2"
            ],
            "text/html": [
              "\n",
              "  <div id=\"df-61322b3a-7e82-4535-b8d5-92cd45a2b001\">\n",
              "    <div class=\"colab-df-container\">\n",
              "      <div>\n",
              "<style scoped>\n",
              "    .dataframe tbody tr th:only-of-type {\n",
              "        vertical-align: middle;\n",
              "    }\n",
              "\n",
              "    .dataframe tbody tr th {\n",
              "        vertical-align: top;\n",
              "    }\n",
              "\n",
              "    .dataframe thead th {\n",
              "        text-align: right;\n",
              "    }\n",
              "</style>\n",
              "<table border=\"1\" class=\"dataframe\">\n",
              "  <thead>\n",
              "    <tr style=\"text-align: right;\">\n",
              "      <th></th>\n",
              "      <th>Translated_Review</th>\n",
              "      <th>Sentiment</th>\n",
              "    </tr>\n",
              "  </thead>\n",
              "  <tbody>\n",
              "    <tr>\n",
              "      <th>1388</th>\n",
              "      <td>really enjoy playing great graphic never probl...</td>\n",
              "      <td>2</td>\n",
              "    </tr>\n",
              "    <tr>\n",
              "      <th>16807</th>\n",
              "      <td>lost app choose araras hotel due picture booki...</td>\n",
              "      <td>2</td>\n",
              "    </tr>\n",
              "    <tr>\n",
              "      <th>39042</th>\n",
              "      <td>great idea content really great idea app like ...</td>\n",
              "      <td>2</td>\n",
              "    </tr>\n",
              "    <tr>\n",
              "      <th>7897</th>\n",
              "      <td>holy juer</td>\n",
              "      <td>1</td>\n",
              "    </tr>\n",
              "    <tr>\n",
              "      <th>63459</th>\n",
              "      <td>good exist</td>\n",
              "      <td>2</td>\n",
              "    </tr>\n",
              "  </tbody>\n",
              "</table>\n",
              "</div>\n",
              "      <button class=\"colab-df-convert\" onclick=\"convertToInteractive('df-61322b3a-7e82-4535-b8d5-92cd45a2b001')\"\n",
              "              title=\"Convert this dataframe to an interactive table.\"\n",
              "              style=\"display:none;\">\n",
              "        \n",
              "  <svg xmlns=\"http://www.w3.org/2000/svg\" height=\"24px\"viewBox=\"0 0 24 24\"\n",
              "       width=\"24px\">\n",
              "    <path d=\"M0 0h24v24H0V0z\" fill=\"none\"/>\n",
              "    <path d=\"M18.56 5.44l.94 2.06.94-2.06 2.06-.94-2.06-.94-.94-2.06-.94 2.06-2.06.94zm-11 1L8.5 8.5l.94-2.06 2.06-.94-2.06-.94L8.5 2.5l-.94 2.06-2.06.94zm10 10l.94 2.06.94-2.06 2.06-.94-2.06-.94-.94-2.06-.94 2.06-2.06.94z\"/><path d=\"M17.41 7.96l-1.37-1.37c-.4-.4-.92-.59-1.43-.59-.52 0-1.04.2-1.43.59L10.3 9.45l-7.72 7.72c-.78.78-.78 2.05 0 2.83L4 21.41c.39.39.9.59 1.41.59.51 0 1.02-.2 1.41-.59l7.78-7.78 2.81-2.81c.8-.78.8-2.07 0-2.86zM5.41 20L4 18.59l7.72-7.72 1.47 1.35L5.41 20z\"/>\n",
              "  </svg>\n",
              "      </button>\n",
              "      \n",
              "  <style>\n",
              "    .colab-df-container {\n",
              "      display:flex;\n",
              "      flex-wrap:wrap;\n",
              "      gap: 12px;\n",
              "    }\n",
              "\n",
              "    .colab-df-convert {\n",
              "      background-color: #E8F0FE;\n",
              "      border: none;\n",
              "      border-radius: 50%;\n",
              "      cursor: pointer;\n",
              "      display: none;\n",
              "      fill: #1967D2;\n",
              "      height: 32px;\n",
              "      padding: 0 0 0 0;\n",
              "      width: 32px;\n",
              "    }\n",
              "\n",
              "    .colab-df-convert:hover {\n",
              "      background-color: #E2EBFA;\n",
              "      box-shadow: 0px 1px 2px rgba(60, 64, 67, 0.3), 0px 1px 3px 1px rgba(60, 64, 67, 0.15);\n",
              "      fill: #174EA6;\n",
              "    }\n",
              "\n",
              "    [theme=dark] .colab-df-convert {\n",
              "      background-color: #3B4455;\n",
              "      fill: #D2E3FC;\n",
              "    }\n",
              "\n",
              "    [theme=dark] .colab-df-convert:hover {\n",
              "      background-color: #434B5C;\n",
              "      box-shadow: 0px 1px 3px 1px rgba(0, 0, 0, 0.15);\n",
              "      filter: drop-shadow(0px 1px 2px rgba(0, 0, 0, 0.3));\n",
              "      fill: #FFFFFF;\n",
              "    }\n",
              "  </style>\n",
              "\n",
              "      <script>\n",
              "        const buttonEl =\n",
              "          document.querySelector('#df-61322b3a-7e82-4535-b8d5-92cd45a2b001 button.colab-df-convert');\n",
              "        buttonEl.style.display =\n",
              "          google.colab.kernel.accessAllowed ? 'block' : 'none';\n",
              "\n",
              "        async function convertToInteractive(key) {\n",
              "          const element = document.querySelector('#df-61322b3a-7e82-4535-b8d5-92cd45a2b001');\n",
              "          const dataTable =\n",
              "            await google.colab.kernel.invokeFunction('convertToInteractive',\n",
              "                                                     [key], {});\n",
              "          if (!dataTable) return;\n",
              "\n",
              "          const docLinkHtml = 'Like what you see? Visit the ' +\n",
              "            '<a target=\"_blank\" href=https://colab.research.google.com/notebooks/data_table.ipynb>data table notebook</a>'\n",
              "            + ' to learn more about interactive tables.';\n",
              "          element.innerHTML = '';\n",
              "          dataTable['output_type'] = 'display_data';\n",
              "          await google.colab.output.renderOutput(dataTable, element);\n",
              "          const docLink = document.createElement('div');\n",
              "          docLink.innerHTML = docLinkHtml;\n",
              "          element.appendChild(docLink);\n",
              "        }\n",
              "      </script>\n",
              "    </div>\n",
              "  </div>\n",
              "  "
            ]
          },
          "metadata": {},
          "execution_count": 169
        }
      ]
    },
    {
      "cell_type": "code",
      "source": [
        "from sklearn.model_selection import train_test_split\n",
        "google_train,google_test=train_test_split(google_cleaned, test_size=0.3, random_state=42, stratify=google_cleaned.Sentiment) #Random state for random fixed manner to split."
      ],
      "metadata": {
        "id": "cJCI3ulFypoE"
      },
      "execution_count": null,
      "outputs": []
    },
    {
      "cell_type": "code",
      "source": [
        "google_train.shape"
      ],
      "metadata": {
        "colab": {
          "base_uri": "https://localhost:8080/"
        },
        "id": "n1_yAn4-y0lv",
        "outputId": "ae5f9b33-2e5b-442b-b9aa-cd0fe7eebf71"
      },
      "execution_count": null,
      "outputs": [
        {
          "output_type": "execute_result",
          "data": {
            "text/plain": [
              "(13099, 2)"
            ]
          },
          "metadata": {},
          "execution_count": 171
        }
      ]
    },
    {
      "cell_type": "code",
      "source": [
        "google_test.shape"
      ],
      "metadata": {
        "colab": {
          "base_uri": "https://localhost:8080/"
        },
        "id": "ng4qcASEy1nQ",
        "outputId": "f9f28abc-5592-480b-9907-c74738e245f4"
      },
      "execution_count": null,
      "outputs": [
        {
          "output_type": "execute_result",
          "data": {
            "text/plain": [
              "(5615, 2)"
            ]
          },
          "metadata": {},
          "execution_count": 172
        }
      ]
    },
    {
      "cell_type": "code",
      "source": [
        "from tensorflow.keras.utils import to_categorical\n",
        "to_categorical(google_train.Sentiment)"
      ],
      "metadata": {
        "colab": {
          "base_uri": "https://localhost:8080/"
        },
        "id": "WUEYVwbQy2xZ",
        "outputId": "7e410426-803b-4e80-a16e-15f4ca9db26a"
      },
      "execution_count": null,
      "outputs": [
        {
          "output_type": "execute_result",
          "data": {
            "text/plain": [
              "array([[0., 0., 1.],\n",
              "       [0., 0., 1.],\n",
              "       [0., 0., 1.],\n",
              "       ...,\n",
              "       [1., 0., 0.],\n",
              "       [0., 0., 1.],\n",
              "       [0., 0., 1.]], dtype=float32)"
            ]
          },
          "metadata": {},
          "execution_count": 173
        }
      ]
    },
    {
      "cell_type": "code",
      "source": [
        "max_length=max([len(x.split()) for x in cleanedtext])\n",
        "print (max_length)"
      ],
      "metadata": {
        "colab": {
          "base_uri": "https://localhost:8080/"
        },
        "id": "bGicp2D1y4h6",
        "outputId": "40e4cd31-5362-4d72-d0a4-9310c5d806e8"
      },
      "execution_count": null,
      "outputs": [
        {
          "output_type": "stream",
          "name": "stdout",
          "text": [
            "152\n"
          ]
        }
      ]
    },
    {
      "cell_type": "code",
      "source": [
        "text_trainBERT=tokenizer(\n",
        "    text=google_train.Translated_Review.tolist(),\n",
        "    add_special_tokens=True,\n",
        "    max_length=max_length,\n",
        "    truncation=True,\n",
        "    padding='max_length',\n",
        "    return_tensors='tf',\n",
        "    return_token_type_ids=False,\n",
        "    return_attention_mask=True,\n",
        "    verbose=True\n",
        ")\n",
        "\n",
        "text_testBERT=tokenizer(\n",
        "    text=google_test.Translated_Review.tolist(),\n",
        "    add_special_tokens=True,\n",
        "    max_length=max_length,\n",
        "    truncation=True,\n",
        "    padding='max_length',\n",
        "    return_tensors='tf',\n",
        "    return_token_type_ids=False,\n",
        "    return_attention_mask=True,\n",
        "    verbose=True\n",
        ")"
      ],
      "metadata": {
        "id": "2o_FprFay6Ev"
      },
      "execution_count": null,
      "outputs": []
    },
    {
      "cell_type": "code",
      "source": [
        "tokenizer(\"This is my master final project\")"
      ],
      "metadata": {
        "colab": {
          "base_uri": "https://localhost:8080/"
        },
        "id": "3PlxDlo1NA8W",
        "outputId": "4eca7243-8b8c-455a-f942-bf44887b32f4"
      },
      "execution_count": null,
      "outputs": [
        {
          "output_type": "execute_result",
          "data": {
            "text/plain": [
              "{'input_ids': [101, 2023, 2003, 2026, 3040, 2345, 2622, 102], 'attention_mask': [1, 1, 1, 1, 1, 1, 1, 1]}"
            ]
          },
          "metadata": {},
          "execution_count": 177
        }
      ]
    },
    {
      "cell_type": "code",
      "source": [
        "text_trainBERT"
      ],
      "metadata": {
        "colab": {
          "base_uri": "https://localhost:8080/"
        },
        "id": "1MfoDM1Fy7U7",
        "outputId": "2da8c629-6a98-4bf5-bb7f-7f32558c7767"
      },
      "execution_count": null,
      "outputs": [
        {
          "output_type": "execute_result",
          "data": {
            "text/plain": [
              "{'input_ids': <tf.Tensor: shape=(13099, 152), dtype=int32, numpy=\n",
              "array([[  101,  4773,  2544, ...,     0,     0,     0],\n",
              "       [  101,  2204,   102, ...,     0,     0,     0],\n",
              "       [  101,  2307, 10439, ...,     0,     0,     0],\n",
              "       ...,\n",
              "       [  101, 17159, 10978, ...,     0,     0,     0],\n",
              "       [  101, 20221,  3477, ...,     0,     0,     0],\n",
              "       [  101,  2204,  3074, ...,     0,     0,     0]], dtype=int32)>, 'attention_mask': <tf.Tensor: shape=(13099, 152), dtype=int32, numpy=\n",
              "array([[1, 1, 1, ..., 0, 0, 0],\n",
              "       [1, 1, 1, ..., 0, 0, 0],\n",
              "       [1, 1, 1, ..., 0, 0, 0],\n",
              "       ...,\n",
              "       [1, 1, 1, ..., 0, 0, 0],\n",
              "       [1, 1, 1, ..., 0, 0, 0],\n",
              "       [1, 1, 1, ..., 0, 0, 0]], dtype=int32)>}"
            ]
          },
          "metadata": {},
          "execution_count": 178
        }
      ]
    },
    {
      "cell_type": "code",
      "source": [
        "from tensorflow.keras.optimizers import Adam\n",
        "from tensorflow.keras.callbacks import EarlyStopping\n",
        "from tensorflow.keras.initializers import TruncatedNormal\n",
        "from tensorflow.keras.losses import CategoricalCrossentropy\n",
        "from tensorflow.keras.metrics import CategoricalAccuracy\n",
        "from tensorflow.keras.utils import plot_model\n",
        "from tensorflow.keras.layers import Input, Dense\n",
        "import tensorflow as tf"
      ],
      "metadata": {
        "id": "6pElH3ZBy87J"
      },
      "execution_count": null,
      "outputs": []
    },
    {
      "cell_type": "code",
      "source": [
        "tf.config.list_physical_devices('GPU')\n",
        "#gpu_options = tf.compat.v1.GPUOptions(per_process_gpu_memory_fraction=0.80) \n",
        "#sess = tf.compat.v1.Session(config=tf.compat.v1.ConfigProto(log_device_placement=True, gpu_options=gpu_options))"
      ],
      "metadata": {
        "colab": {
          "base_uri": "https://localhost:8080/"
        },
        "id": "41w4ZXESy-Hw",
        "outputId": "c9f07fba-e1af-4d37-dc05-c8eef14cca09"
      },
      "execution_count": null,
      "outputs": [
        {
          "output_type": "execute_result",
          "data": {
            "text/plain": [
              "[PhysicalDevice(name='/physical_device:GPU:0', device_type='GPU')]"
            ]
          },
          "metadata": {},
          "execution_count": 180
        }
      ]
    },
    {
      "cell_type": "code",
      "source": [
        "#PERZONALIZATION AND CONFIGURATION OF THE MODEL\n",
        "# Unfreeze some of the pre-trained layers\n",
        "for layer in model.layers[-4:]:\n",
        "    layer.trainable = True\n",
        "\n",
        "input_ids = Input(shape=(max_length,), dtype=tf.int32, name=\"input_ids\")\n",
        "attention_mask = Input(shape=(max_length,), dtype=tf.int32, name=\"attention_mask\")\n",
        "\n",
        "outputs = model([input_ids, attention_mask])\n",
        "# Define the final layer for classification\n",
        "sentiment = tf.keras.layers.Dense(num_classes, name='sentiment')(outputs[0])\n",
        "\n",
        "# Apply softmax activation outside of the model for better numerical stability\n",
        "sentiment = tf.keras.layers.Activation('softmax', name='softmax_activation')(sentiment)\n",
        "\n",
        "BERTmodel = tf.keras.Model(inputs=[input_ids, attention_mask], outputs=sentiment)\n",
        "\n",
        "#SAVE MODEL BEFORE TRAINING : \n",
        "BERTmodel=model.save_pretrained(dir_path + 'bert-model')"
      ],
      "metadata": {
        "id": "3U7c9l0ay_U-"
      },
      "execution_count": null,
      "outputs": []
    },
    {
      "cell_type": "code",
      "source": [
        "tf.keras.utils.plot_model(BERTmodel, show_shapes=True)"
      ],
      "metadata": {
        "colab": {
          "base_uri": "https://localhost:8080/",
          "height": 403
        },
        "id": "yCSF8mgozAaF",
        "outputId": "2efa3bd1-56a3-49ee-e00b-42c52101b11a"
      },
      "execution_count": null,
      "outputs": [
        {
          "output_type": "execute_result",
          "data": {
            "image/png": "[encoded data removed]",
            "text/plain": [
              "<IPython.core.display.Image object>"
            ]
          },
          "metadata": {},
          "execution_count": 183
        }
      ]
    },
    {
      "cell_type": "code",
      "source": [
        "BERTmodel.layers"
      ],
      "metadata": {
        "colab": {
          "base_uri": "https://localhost:8080/"
        },
        "id": "uHQfJyWmzBrN",
        "outputId": "e2556f6e-b58b-4f47-eccc-f6c83ae4abe8"
      },
      "execution_count": null,
      "outputs": [
        {
          "output_type": "execute_result",
          "data": {
            "text/plain": [
              "[<keras.engine.input_layer.InputLayer at 0x7f5de98e02b0>,\n",
              " <keras.engine.input_layer.InputLayer at 0x7f60b88b1220>,\n",
              " <transformers.models.distilbert.modeling_tf_distilbert.TFDistilBertForSequenceClassification at 0x7f5ddb8c3b80>,\n",
              " <keras.layers.core.dense.Dense at 0x7f60de0a4670>,\n",
              " <keras.layers.core.activation.Activation at 0x7f5ddb8bb5b0>]"
            ]
          },
          "metadata": {},
          "execution_count": 184
        }
      ]
    },
    {
      "cell_type": "code",
      "source": [
        "BERTmodel.summary()"
      ],
      "metadata": {
        "colab": {
          "base_uri": "https://localhost:8080/"
        },
        "id": "Xt1US1MVzCk1",
        "outputId": "f79a52f9-d143-43d5-c05f-81075a9e6d17"
      },
      "execution_count": null,
      "outputs": [
        {
          "output_type": "stream",
          "name": "stdout",
          "text": [
            "Model: \"model_10\"\n",
            "__________________________________________________________________________________________________\n",
            " Layer (type)                   Output Shape         Param #     Connected to                     \n",
            "==================================================================================================\n",
            " input_ids (InputLayer)         [(None, 152)]        0           []                               \n",
            "                                                                                                  \n",
            " attention_mask (InputLayer)    [(None, 152)]        0           []                               \n",
            "                                                                                                  \n",
            " tf_distil_bert_for_sequence_cl  TFSequenceClassifie  66955779   ['input_ids[0][0]',              \n",
            " assification_7 (TFDistilBertFo  rOutput(loss=None,               'attention_mask[0][0]']         \n",
            " rSequenceClassification)       logits=(None, 3),                                                 \n",
            "                                 hidden_states=None                                               \n",
            "                                , attentions=None)                                                \n",
            "                                                                                                  \n",
            " sentiment (Dense)              (None, 3)            12          ['tf_distil_bert_for_sequence_cla\n",
            "                                                                 ssification_7[1][0]']            \n",
            "                                                                                                  \n",
            " softmax_activation (Activation  (None, 3)           0           ['sentiment[0][0]']              \n",
            " )                                                                                                \n",
            "                                                                                                  \n",
            "==================================================================================================\n",
            "Total params: 66,955,791\n",
            "Trainable params: 66,955,791\n",
            "Non-trainable params: 0\n",
            "__________________________________________________________________________________________________\n"
          ]
        }
      ]
    },
    {
      "cell_type": "code",
      "source": [
        "from tensorflow.keras.optimizers.experimental import AdamW"
      ],
      "metadata": {
        "id": "NhLuTtX5An4u"
      },
      "execution_count": null,
      "outputs": []
    },
    {
      "cell_type": "code",
      "source": [
        "#TRAINING PART\n",
        "optimizer = AdamW(\n",
        "    learning_rate=2e-5, # this learning rate is for bert model , taken from huggingface website \n",
        "    epsilon=1e-08,\n",
        "    clipnorm=1.0,\n",
        "    weight_decay=0.01\n",
        ")\n",
        "\n",
        "# Set loss and metrics\n",
        "loss = CategoricalCrossentropy()\n",
        "metric = CategoricalAccuracy()\n",
        "\n",
        "# Compile the model\n",
        "BERTmodel.compile(\n",
        "    optimizer = optimizer,\n",
        "    loss = loss, \n",
        "    metrics = metric\n",
        ")"
      ],
      "metadata": {
        "id": "Gfboe4Z5zDvV",
        "colab": {
          "base_uri": "https://localhost:8080/",
          "height": 246
        },
        "outputId": "77179ec9-ef62-47bc-8193-558080d6d1e2"
      },
      "execution_count": null,
      "outputs": []
    },
    {
      "cell_type": "code",
      "source": [
        "#tf.config.experimental_run_functions_eagerly(True)\n",
        "#tf.config.run_functions_eagerly(True)"
      ],
      "metadata": {
        "colab": {
          "base_uri": "https://localhost:8080/"
        },
        "id": "P54hInetzE5k",
        "outputId": "f0597624-cbb9-472a-b826-3731efdd7229"
      },
      "execution_count": null,
      "outputs": [
        {
          "output_type": "stream",
          "name": "stderr",
          "text": []
        }
      ]
    },
    {
      "cell_type": "code",
      "source": [
        "train_history = BERTmodel.fit(\n",
        "  x ={'input_ids':text_trainBERT['input_ids'],'attention_mask':text_trainBERT['attention_mask']} ,\n",
        "  y = to_categorical(google_train.Sentiment),\n",
        "  validation_data = (\n",
        "  {'input_ids':text_testBERT['input_ids'],'attention_mask':text_testBERT['attention_mask']}, to_categorical(google_test.Sentiment)\n",
        "  ),\n",
        "  epochs=10,\n",
        "  batch_size=64\n",
        ")"
      ],
      "metadata": {
        "id": "4NnB5e_rzGJi",
        "colab": {
          "base_uri": "https://localhost:8080/"
        },
        "outputId": "226b397d-e08e-4bbd-87ec-461f21e1a27b"
      },
      "execution_count": null,
      "outputs": [
        {
          "output_type": "stream",
          "name": "stdout",
          "text": [
            "Epoch 1/10\n",
            "205/205 [==============================] - 299s 1s/step - loss: 0.5635 - categorical_accuracy: 0.7837 - val_loss: 0.3141 - val_categorical_accuracy: 0.8949\n",
            "Epoch 2/10\n",
            "205/205 [==============================] - 226s 1s/step - loss: 0.2545 - categorical_accuracy: 0.9161 - val_loss: 0.2636 - val_categorical_accuracy: 0.9097\n",
            "Epoch 3/10\n",
            "205/205 [==============================] - 226s 1s/step - loss: 0.1802 - categorical_accuracy: 0.9453 - val_loss: 0.2576 - val_categorical_accuracy: 0.9179\n",
            "Epoch 4/10\n",
            "205/205 [==============================] - 226s 1s/step - loss: 0.1251 - categorical_accuracy: 0.9651 - val_loss: 0.2603 - val_categorical_accuracy: 0.9264\n",
            "Epoch 5/10\n",
            "205/205 [==============================] - 226s 1s/step - loss: 0.0935 - categorical_accuracy: 0.9757 - val_loss: 0.2693 - val_categorical_accuracy: 0.9279\n",
            "Epoch 6/10\n",
            "205/205 [==============================] - 214s 1s/step - loss: 0.0781 - categorical_accuracy: 0.9785 - val_loss: 0.2935 - val_categorical_accuracy: 0.9218\n",
            "Epoch 7/10\n",
            "205/205 [==============================] - 213s 1s/step - loss: 0.0595 - categorical_accuracy: 0.9847 - val_loss: 0.3106 - val_categorical_accuracy: 0.9188\n",
            "Epoch 8/10\n",
            "205/205 [==============================] - 226s 1s/step - loss: 0.0489 - categorical_accuracy: 0.9879 - val_loss: 0.2998 - val_categorical_accuracy: 0.9300\n",
            "Epoch 9/10\n",
            "205/205 [==============================] - 226s 1s/step - loss: 0.0409 - categorical_accuracy: 0.9905 - val_loss: 0.3225 - val_categorical_accuracy: 0.9263\n",
            "Epoch 10/10\n",
            "205/205 [==============================] - 226s 1s/step - loss: 0.0368 - categorical_accuracy: 0.9913 - val_loss: 0.3204 - val_categorical_accuracy: 0.9248\n"
          ]
        }
      ]
    },
    {
      "cell_type": "code",
      "source": [
        "import json\n",
        "# save the training history\n",
        "with open(dir_path + 'history.json', 'w') as f:\n",
        "    json.dump(train_history.history, f)"
      ],
      "metadata": {
        "id": "8NWRKn-krRX7"
      },
      "execution_count": null,
      "outputs": []
    },
    {
      "cell_type": "code",
      "source": [
        "BERTmodel.save_weights(dir_path + 'sentiment_weights.h5')"
      ],
      "metadata": {
        "id": "9exw6fe1zHSo"
      },
      "execution_count": null,
      "outputs": []
    },
    {
      "cell_type": "code",
      "source": [
        "BERTmodel.load_weights(dir_path + 'sentiment_weights.h5')"
      ],
      "metadata": {
        "id": "e9vpIazOzIKi"
      },
      "execution_count": null,
      "outputs": []
    },
    {
      "cell_type": "code",
      "source": [
        "predBERT=BERTmodel.predict({'input_ids':text_testBERT['input_ids'],'attention_mask':text_testBERT['attention_mask']})"
      ],
      "metadata": {
        "id": "1bjsCQCBzJP2",
        "colab": {
          "base_uri": "https://localhost:8080/"
        },
        "outputId": "b846b481-dbac-4a67-9c3d-0bf986b7d65a"
      },
      "execution_count": null,
      "outputs": [
        {
          "output_type": "stream",
          "name": "stdout",
          "text": [
            "176/176 [==============================] - 32s 171ms/step\n"
          ]
        }
      ]
    },
    {
      "cell_type": "code",
      "source": [
        "predBERT[0]"
      ],
      "metadata": {
        "id": "RgBUIbUlzJ84",
        "colab": {
          "base_uri": "https://localhost:8080/"
        },
        "outputId": "94e05235-6809-4d0a-c20e-5e211f3d36d7"
      },
      "execution_count": null,
      "outputs": [
        {
          "output_type": "execute_result",
          "data": {
            "text/plain": [
              "array([1.4108584e-03, 5.5303145e-04, 9.9803609e-01], dtype=float32)"
            ]
          },
          "metadata": {},
          "execution_count": 193
        }
      ]
    },
    {
      "cell_type": "code",
      "source": [
        "pred_Sentiment = np.argmax(predBERT, axis = 1)\n",
        "true_Sentiment = google_test.Sentiment"
      ],
      "metadata": {
        "id": "fjMaPPADzKxq"
      },
      "execution_count": null,
      "outputs": []
    },
    {
      "cell_type": "code",
      "source": [
        "from sklearn.metrics import classification_report\n",
        "print(classification_report(true_Sentiment, pred_Sentiment))"
      ],
      "metadata": {
        "id": "MJ5Kn3IAzLwM",
        "colab": {
          "base_uri": "https://localhost:8080/"
        },
        "outputId": "e77897fc-5052-46f9-a510-d4f998521a45"
      },
      "execution_count": null,
      "outputs": [
        {
          "output_type": "stream",
          "name": "stdout",
          "text": [
            "              precision    recall  f1-score   support\n",
            "\n",
            "           0       0.88      0.87      0.87      1238\n",
            "           1       0.91      0.85      0.88       760\n",
            "           2       0.94      0.96      0.95      3617\n",
            "\n",
            "    accuracy                           0.92      5615\n",
            "   macro avg       0.91      0.89      0.90      5615\n",
            "weighted avg       0.92      0.92      0.92      5615\n",
            "\n"
          ]
        }
      ]
    },
    {
      "cell_type": "code",
      "source": [
        "!pip install transformers\n",
        "!pip install tensorflow"
      ],
      "metadata": {
        "colab": {
          "base_uri": "https://localhost:8080/"
        },
        "id": "5gEEhKIpIdLq",
        "outputId": "0dd1a17a-180e-4492-9c21-f86cd5360af8"
      },
      "execution_count": null,
      "outputs": [
        {
          "output_type": "stream",
          "name": "stdout",
          "text": [
            "Looking in indexes: https://pypi.org/simple, https://us-python.pkg.dev/colab-wheels/public/simple/\n",
            "Collecting transformers\n",
            "  Downloading transformers-4.27.1-py3-none-any.whl (6.7 MB)\n",
            "\u001b[2K     \u001b[90m━━━━━━━━━━━━━━━━━━━━━━━━━━━━━━━━━━━━━━━━\u001b[0m \u001b[32m6.7/6.7 MB\u001b[0m \u001b[31m80.4 MB/s\u001b[0m eta \u001b[36m0:00:00\u001b[0m\n",
            "\u001b[?25hRequirement already satisfied: filelock in /usr/local/lib/python3.9/dist-packages (from transformers) (3.10.0)\n",
            "Requirement already satisfied: numpy>=1.17 in /usr/local/lib/python3.9/dist-packages (from transformers) (1.22.4)\n",
            "Requirement already satisfied: pyyaml>=5.1 in /usr/local/lib/python3.9/dist-packages (from transformers) (6.0)\n",
            "Requirement already satisfied: tqdm>=4.27 in /usr/local/lib/python3.9/dist-packages (from transformers) (4.65.0)\n",
            "Collecting huggingface-hub<1.0,>=0.11.0\n",
            "  Downloading huggingface_hub-0.13.2-py3-none-any.whl (199 kB)\n",
            "\u001b[2K     \u001b[90m━━━━━━━━━━━━━━━━━━━━━━━━━━━━━━━━━━━━━━\u001b[0m \u001b[32m199.2/199.2 KB\u001b[0m \u001b[31m27.7 MB/s\u001b[0m eta \u001b[36m0:00:00\u001b[0m\n",
            "\u001b[?25hRequirement already satisfied: packaging>=20.0 in /usr/local/lib/python3.9/dist-packages (from transformers) (23.0)\n",
            "Collecting tokenizers!=0.11.3,<0.14,>=0.11.1\n",
            "  Downloading tokenizers-0.13.2-cp39-cp39-manylinux_2_17_x86_64.manylinux2014_x86_64.whl (7.6 MB)\n",
            "\u001b[2K     \u001b[90m━━━━━━━━━━━━━━━━━━━━━━━━━━━━━━━━━━━━━━━━\u001b[0m \u001b[32m7.6/7.6 MB\u001b[0m \u001b[31m105.0 MB/s\u001b[0m eta \u001b[36m0:00:00\u001b[0m\n",
            "\u001b[?25hRequirement already satisfied: regex!=2019.12.17 in /usr/local/lib/python3.9/dist-packages (from transformers) (2022.10.31)\n",
            "Requirement already satisfied: requests in /usr/local/lib/python3.9/dist-packages (from transformers) (2.27.1)\n",
            "Requirement already satisfied: typing-extensions>=3.7.4.3 in /usr/local/lib/python3.9/dist-packages (from huggingface-hub<1.0,>=0.11.0->transformers) (4.5.0)\n",
            "Requirement already satisfied: idna<4,>=2.5 in /usr/local/lib/python3.9/dist-packages (from requests->transformers) (3.4)\n",
            "Requirement already satisfied: certifi>=2017.4.17 in /usr/local/lib/python3.9/dist-packages (from requests->transformers) (2022.12.7)\n",
            "Requirement already satisfied: charset-normalizer~=2.0.0 in /usr/local/lib/python3.9/dist-packages (from requests->transformers) (2.0.12)\n",
            "Requirement already satisfied: urllib3<1.27,>=1.21.1 in /usr/local/lib/python3.9/dist-packages (from requests->transformers) (1.26.15)\n",
            "Installing collected packages: tokenizers, huggingface-hub, transformers\n",
            "Successfully installed huggingface-hub-0.13.2 tokenizers-0.13.2 transformers-4.27.1\n"
          ]
        }
      ]
    },
    {
      "cell_type": "code",
      "source": [
        "from transformers import AutoTokenizer\n",
        "import pandas as pd\n",
        "import nltk #Natural Language Toolkit\n",
        "import numpy as np\n",
        "\n",
        "import re #Regular Expression\n",
        "\n",
        "nltk.download('stopwords')\n",
        "nltk.download('wordnet')\n",
        "from nltk.corpus import stopwords\n",
        "from nltk.stem.porter import PorterStemmer\n",
        "from nltk.stem.wordnet import WordNetLemmatizer\n",
        "\n",
        "import string\n",
        "nltk.download('omw-1.4')\n",
        "\n",
        "import tensorflow as tf\n",
        "from transformers import TFAutoModel, AutoTokenizer\n",
        "from tensorflow.keras.models import load_model, save_model\n",
        "from tensorflow.keras.layers import Input\n",
        "\n",
        "# specify the directory path where you want to save the model and tokenizer\n",
        "dir_path = '/content/drive/MyDrive/masterthesis/'\n",
        "\n",
        "# load the data and preprocess\n",
        "reviews=pd.read_csv(\"/content/drive/MyDrive/masterthesis/translated_reviews.csv\")\n",
        "reviews.head()\n",
        "index_with_nan = reviews.index[reviews.isnull().any(axis=1)]\n",
        "reviews.drop(index_with_nan,0, inplace=True)\n",
        "#reviews = reviews.sample(frac=0.1)\n",
        "print(reviews)\n",
        "\n",
        "text=reviews['translated_comment']\n",
        "print(text)\n",
        "text.shape[0]\n",
        "\n",
        "stop_words = stopwords.words('english')\n",
        "stop_words.remove('not')\n",
        "punct=string.punctuation\n",
        "\n",
        "cleanedtext=[]\n",
        "for i in range (len(text)):\n",
        "    review=re.sub('[^a-zA-Z]', ' ', str(text.iloc[i])) #if not str(text[i]) --> expected string or bytes-like object sub(pattern, repl, string, count, flags)\n",
        "    review=review.lower().split()  # .str.lower() ? \n",
        "    #review=[PorterStemmer().stem(word) for word in review if (word not in stop_words) and (word not in punct)]\n",
        "    review=[WordNetLemmatizer().lemmatize(word) for word in review if (word not in stop_words) and (word not in punct)]\n",
        "    review=' '.join(review)\n",
        "    cleanedtext.append(review)\n",
        "\n",
        "reviews_cleaned=reviews.copy()\n",
        "reviews_cleaned=reviews_cleaned[['translated_comment']]\n",
        "reviews_cleaned['translated_comment']=cleanedtext\n",
        "reviews_cleaned.head()\n",
        "\n",
        "max_length=max([len(x.split()) for x in cleanedtext])\n",
        "num_classes = 3\n",
        "print(max_length)\n",
        "\n",
        "# load the TOKENIZER before prediction\n",
        "tokenizer=AutoTokenizer.from_pretrained(dir_path + 'bert-tokenizer')\n",
        "\n",
        "text_reviewsBERT=tokenizer(\n",
        "    text=reviews_cleaned.translated_comment.tolist(),\n",
        "    add_special_tokens=True,\n",
        "    max_length=max_length,\n",
        "    truncation=True,\n",
        "    padding='max_length',\n",
        "    return_tensors='tf',\n",
        "    return_token_type_ids=False,\n",
        "    return_attention_mask=True,\n",
        "    verbose=True\n",
        ")"
      ],
      "metadata": {
        "colab": {
          "base_uri": "https://localhost:8080/"
        },
        "id": "L0xzS2ao-Lqy",
        "outputId": "658918df-9ec3-4b51-e4c5-64e327b7f025"
      },
      "execution_count": null,
      "outputs": [
        {
          "output_type": "stream",
          "name": "stderr",
          "text": [
            "[nltk_data] Downloading package stopwords to /root/nltk_data...\n",
            "[nltk_data]   Package stopwords is already up-to-date!\n",
            "[nltk_data] Downloading package wordnet to /root/nltk_data...\n",
            "[nltk_data]   Package wordnet is already up-to-date!\n",
            "[nltk_data] Downloading package omw-1.4 to /root/nltk_data...\n",
            "[nltk_data]   Package omw-1.4 is already up-to-date!\n",
            "<ipython-input-20-1c5ea2b70fbd>:29: FutureWarning: In a future version of pandas all arguments of DataFrame.drop except for the argument 'labels' will be keyword-only.\n",
            "  reviews.drop(index_with_nan,0, inplace=True)\n"
          ]
        },
        {
          "output_type": "stream",
          "name": "stdout",
          "text": [
            "                                  reviewId           userName  score  \\\n",
            "0     e1aeca72-bec3-4c26-a170-9fe49b8c7d9d   Corentin Prigent    5.0   \n",
            "1     388a0e9e-d7a3-4f19-b792-2df821b6da3f    claude leclercq    3.0   \n",
            "2     46463794-2169-4191-b3f2-136f7ade6760      Timothée Brun    5.0   \n",
            "3     2d4a1f11-652e-4442-8629-7f56ad511240     Olivier FEBWIN    4.0   \n",
            "4     8eeb4d02-2b8e-422c-93d8-3ef125239e50      Baptiste Piat    4.0   \n",
            "...                                    ...                ...    ...   \n",
            "9995  71fbfa7b-fae5-44f8-814a-73b22ed39fbe     christine Tune    5.0   \n",
            "9996  0c6da2a3-3239-4130-8d08-19a5bfc4599f     julien Mallory    3.0   \n",
            "9997  bcdc0a83-75af-4d6e-8e51-37212242f503   TERMEAU PHILIPPE    5.0   \n",
            "9998  5d5940ee-6075-41c5-80d6-452b506f4cb2  daniele rodrigues    5.0   \n",
            "9999  611e3235-84cf-41c1-a9c7-6da4d78fdea8    Gerard Danbakli    5.0   \n",
            "\n",
            "      thumbsUpCount                   at  \\\n",
            "0            3387.0  2022-02-13 05:56:53   \n",
            "1            2511.0  2021-04-06 06:40:05   \n",
            "2            1829.0  2022-01-02 08:43:48   \n",
            "3            1692.0  2022-10-12 09:51:39   \n",
            "4            1658.0  2022-01-28 21:54:09   \n",
            "...             ...                  ...   \n",
            "9995            1.0  2021-06-19 11:58:52   \n",
            "9996            1.0  2021-06-19 11:13:34   \n",
            "9997            1.0  2021-06-19 10:54:45   \n",
            "9998            1.0  2021-06-19 10:51:51   \n",
            "9999            1.0  2021-06-19 10:47:59   \n",
            "\n",
            "                                   preprocessed_comment  \\\n",
            "0     App excellente pas de pub dure de vie assez lo...   \n",
            "1     Premier avantage immédiatement visible plus be...   \n",
            "2     Ces jeux est génial il y a plein de possibilit...   \n",
            "3     Pourquoi obliger lactivation de toutes les not...   \n",
            "4     Un peu perdu dans ce monde ouvert vraiment vas...   \n",
            "...                                                 ...   \n",
            "9995     Ultra simple Jai scan facilement Et jai 76 ans   \n",
            "9996  Comment faiton si lon a quun seul téléphone po...   \n",
            "9997                                Super bien et utile   \n",
            "9998  Jai eu des problèmes au début mais maintenant ...   \n",
            "9999  Marche super bien attestations et scans se fon...   \n",
            "\n",
            "                                     translated_comment  \n",
            "0     Excellent app no advertising quite long lifesp...  \n",
            "1     The first immediately visible advantage plus t...  \n",
            "2     These games are great there are plenty of poss...  \n",
            "3     Why require all notifications to be activated ...  \n",
            "4     A little lost in this really vast open world A...  \n",
            "...                                                 ...  \n",
            "9995     Ultra simple I scan easily And Im 76 years old  \n",
            "9996               How do we get only one phone for two  \n",
            "9997                              Super good and useful  \n",
            "9998  I had problems at first but now its at the top...  \n",
            "9999  Super good walking attestations and scans are ...  \n",
            "\n",
            "[9713 rows x 7 columns]\n",
            "0       Excellent app no advertising quite long lifesp...\n",
            "1       The first immediately visible advantage plus t...\n",
            "2       These games are great there are plenty of poss...\n",
            "3       Why require all notifications to be activated ...\n",
            "4       A little lost in this really vast open world A...\n",
            "                              ...                        \n",
            "9995       Ultra simple I scan easily And Im 76 years old\n",
            "9996                 How do we get only one phone for two\n",
            "9997                                Super good and useful\n",
            "9998    I had problems at first but now its at the top...\n",
            "9999    Super good walking attestations and scans are ...\n",
            "Name: translated_comment, Length: 9713, dtype: object\n",
            "506\n"
          ]
        }
      ]
    },
    {
      "cell_type": "code",
      "source": [
        "from transformers import TFAutoModel\n",
        "from transformers import AutoTokenizer, TFAutoModelForSequenceClassification, TFDistilBertForSequenceClassification\n",
        "#PERZONALIZATION AND CONFIGURATION OF THE MODEL\n",
        "# load the model\n",
        "model = TFDistilBertForSequenceClassification.from_pretrained('distilbert-base-uncased', num_labels=num_classes)\n",
        "# Unfreeze some of the pre-trained layers\n",
        "for layer in model.layers[-4:]:\n",
        "    layer.trainable = True\n",
        "\n",
        "input_ids = Input(shape=(max_length,), dtype=tf.int32, name=\"input_ids\") #need to redifine it because max_length of the new dataset > the training dataset\n",
        "attention_mask = Input(shape=(max_length,), dtype=tf.int32, name=\"attention_mask\")\n",
        "\n",
        "outputs = model([input_ids, attention_mask])\n",
        "# Define the final layer for classification\n",
        "sentiment = tf.keras.layers.Dense(num_classes, name='sentiment')(outputs[0])\n",
        "\n",
        "# Apply softmax activation outside of the model for better numerical stability\n",
        "sentiment = tf.keras.layers.Activation('softmax', name='softmax_activation')(sentiment)\n",
        "\n",
        "BERTmodel = tf.keras.Model(inputs=[input_ids, attention_mask], outputs=sentiment)\n",
        "tf.keras.utils.plot_model(BERTmodel, show_shapes=True)\n",
        "BERTmodel.summary()\n"
      ],
      "metadata": {
        "colab": {
          "base_uri": "https://localhost:8080/"
        },
        "id": "6t4hq4SnHpyM",
        "outputId": "493f32dd-5027-402a-e9cb-f0287df5f541"
      },
      "execution_count": null,
      "outputs": [
        {
          "output_type": "stream",
          "name": "stderr",
          "text": [
            "Some layers from the model checkpoint at distilbert-base-uncased were not used when initializing TFDistilBertForSequenceClassification: ['vocab_layer_norm', 'activation_13', 'vocab_projector', 'vocab_transform']\n",
            "- This IS expected if you are initializing TFDistilBertForSequenceClassification from the checkpoint of a model trained on another task or with another architecture (e.g. initializing a BertForSequenceClassification model from a BertForPreTraining model).\n",
            "- This IS NOT expected if you are initializing TFDistilBertForSequenceClassification from the checkpoint of a model that you expect to be exactly identical (initializing a BertForSequenceClassification model from a BertForSequenceClassification model).\n",
            "Some layers of TFDistilBertForSequenceClassification were not initialized from the model checkpoint at distilbert-base-uncased and are newly initialized: ['pre_classifier', 'classifier', 'dropout_387']\n",
            "You should probably TRAIN this model on a down-stream task to be able to use it for predictions and inference.\n"
          ]
        },
        {
          "output_type": "stream",
          "name": "stdout",
          "text": [
            "Model: \"model_11\"\n",
            "__________________________________________________________________________________________________\n",
            " Layer (type)                   Output Shape         Param #     Connected to                     \n",
            "==================================================================================================\n",
            " input_ids (InputLayer)         [(None, 506)]        0           []                               \n",
            "                                                                                                  \n",
            " attention_mask (InputLayer)    [(None, 506)]        0           []                               \n",
            "                                                                                                  \n",
            " tf_distil_bert_for_sequence_cl  TFSequenceClassifie  66955779   ['input_ids[0][0]',              \n",
            " assification_7 (TFDistilBertFo  rOutput(loss=None,               'attention_mask[0][0]']         \n",
            " rSequenceClassification)       logits=(None, 3),                                                 \n",
            "                                 hidden_states=None                                               \n",
            "                                , attentions=None)                                                \n",
            "                                                                                                  \n",
            " sentiment (Dense)              (None, 3)            12          ['tf_distil_bert_for_sequence_cla\n",
            "                                                                 ssification_7[0][0]']            \n",
            "                                                                                                  \n",
            " softmax_activation (Activation  (None, 3)           0           ['sentiment[0][0]']              \n",
            " )                                                                                                \n",
            "                                                                                                  \n",
            "==================================================================================================\n",
            "Total params: 66,955,791\n",
            "Trainable params: 66,955,791\n",
            "Non-trainable params: 0\n",
            "__________________________________________________________________________________________________\n"
          ]
        }
      ]
    },
    {
      "cell_type": "code",
      "source": [
        "BERTmodel.load_weights(dir_path + 'sentiment_weights.h5')"
      ],
      "metadata": {
        "id": "khsrER9QOZr2"
      },
      "execution_count": null,
      "outputs": []
    },
    {
      "cell_type": "code",
      "source": [
        "sentiment_probs = BERTmodel.predict({'input_ids': text_reviewsBERT['input_ids'], 'attention_mask': text_reviewsBERT['attention_mask']})"
      ],
      "metadata": {
        "colab": {
          "base_uri": "https://localhost:8080/"
        },
        "id": "SBnZawSEWbSt",
        "outputId": "304ac5b0-42d2-4ae2-922b-6e20c6738b0d"
      },
      "execution_count": null,
      "outputs": [
        {
          "output_type": "stream",
          "name": "stdout",
          "text": [
            "304/304 [==============================] - 206s 663ms/step\n"
          ]
        }
      ]
    },
    {
      "cell_type": "code",
      "source": [
        "comment_sentiment = tf.argmax(sentiment_probs, axis=1)\n",
        "reviews['comment_sentiment'] = comment_sentiment"
      ],
      "metadata": {
        "id": "4DuLg3QnW8bl"
      },
      "execution_count": null,
      "outputs": []
    },
    {
      "cell_type": "code",
      "source": [
        "label_map = {0: 'Negative', 1: 'Neutral', 2: 'Positive'}\n",
        "reviews['sentiment_label'] = reviews['comment_sentiment'].map(label_map)\n",
        "print (reviews)"
      ],
      "metadata": {
        "colab": {
          "base_uri": "https://localhost:8080/"
        },
        "id": "jZv8LaHwX-5r",
        "outputId": "329ae71c-51cd-43c3-c8ae-cbf820eb80a6"
      },
      "execution_count": null,
      "outputs": [
        {
          "output_type": "stream",
          "name": "stdout",
          "text": [
            "                                  reviewId           userName  score  \\\n",
            "0     e1aeca72-bec3-4c26-a170-9fe49b8c7d9d   Corentin Prigent    5.0   \n",
            "1     388a0e9e-d7a3-4f19-b792-2df821b6da3f    claude leclercq    3.0   \n",
            "2     46463794-2169-4191-b3f2-136f7ade6760      Timothée Brun    5.0   \n",
            "3     2d4a1f11-652e-4442-8629-7f56ad511240     Olivier FEBWIN    4.0   \n",
            "4     8eeb4d02-2b8e-422c-93d8-3ef125239e50      Baptiste Piat    4.0   \n",
            "...                                    ...                ...    ...   \n",
            "9995  71fbfa7b-fae5-44f8-814a-73b22ed39fbe     christine Tune    5.0   \n",
            "9996  0c6da2a3-3239-4130-8d08-19a5bfc4599f     julien Mallory    3.0   \n",
            "9997  bcdc0a83-75af-4d6e-8e51-37212242f503   TERMEAU PHILIPPE    5.0   \n",
            "9998  5d5940ee-6075-41c5-80d6-452b506f4cb2  daniele rodrigues    5.0   \n",
            "9999  611e3235-84cf-41c1-a9c7-6da4d78fdea8    Gerard Danbakli    5.0   \n",
            "\n",
            "      thumbsUpCount                   at  \\\n",
            "0            3387.0  2022-02-13 05:56:53   \n",
            "1            2511.0  2021-04-06 06:40:05   \n",
            "2            1829.0  2022-01-02 08:43:48   \n",
            "3            1692.0  2022-10-12 09:51:39   \n",
            "4            1658.0  2022-01-28 21:54:09   \n",
            "...             ...                  ...   \n",
            "9995            1.0  2021-06-19 11:58:52   \n",
            "9996            1.0  2021-06-19 11:13:34   \n",
            "9997            1.0  2021-06-19 10:54:45   \n",
            "9998            1.0  2021-06-19 10:51:51   \n",
            "9999            1.0  2021-06-19 10:47:59   \n",
            "\n",
            "                                   preprocessed_comment  \\\n",
            "0     App excellente pas de pub dure de vie assez lo...   \n",
            "1     Premier avantage immédiatement visible plus be...   \n",
            "2     Ces jeux est génial il y a plein de possibilit...   \n",
            "3     Pourquoi obliger lactivation de toutes les not...   \n",
            "4     Un peu perdu dans ce monde ouvert vraiment vas...   \n",
            "...                                                 ...   \n",
            "9995     Ultra simple Jai scan facilement Et jai 76 ans   \n",
            "9996  Comment faiton si lon a quun seul téléphone po...   \n",
            "9997                                Super bien et utile   \n",
            "9998  Jai eu des problèmes au début mais maintenant ...   \n",
            "9999  Marche super bien attestations et scans se fon...   \n",
            "\n",
            "                                     translated_comment  comment_sentiment  \\\n",
            "0     Excellent app no advertising quite long lifesp...                  2   \n",
            "1     The first immediately visible advantage plus t...                  2   \n",
            "2     These games are great there are plenty of poss...                  2   \n",
            "3     Why require all notifications to be activated ...                  1   \n",
            "4     A little lost in this really vast open world A...                  2   \n",
            "...                                                 ...                ...   \n",
            "9995     Ultra simple I scan easily And Im 76 years old                  2   \n",
            "9996               How do we get only one phone for two                  1   \n",
            "9997                              Super good and useful                  2   \n",
            "9998  I had problems at first but now its at the top...                  2   \n",
            "9999  Super good walking attestations and scans are ...                  2   \n",
            "\n",
            "     sentiment_label  \n",
            "0           Positive  \n",
            "1           Positive  \n",
            "2           Positive  \n",
            "3            Neutral  \n",
            "4           Positive  \n",
            "...              ...  \n",
            "9995        Positive  \n",
            "9996         Neutral  \n",
            "9997        Positive  \n",
            "9998        Positive  \n",
            "9999        Positive  \n",
            "\n",
            "[9713 rows x 9 columns]\n"
          ]
        }
      ]
    },
    {
      "cell_type": "code",
      "source": [
        "negative_count = reviews['sentiment_label'].value_counts()[0]\n",
        "print(\"Number of negative reviews:\", negative_count)\n",
        "neutral_count = reviews['sentiment_label'].value_counts()[1]\n",
        "print(\"Number of neutral reviews:\", neutral_count)\n",
        "positive_count = reviews['sentiment_label'].value_counts()[2]\n",
        "print(\"Number of positive reviews:\", positive_count)\n",
        "total=negative_count+neutral_count+positive_count\n",
        "print(\"total review:\", total)"
      ],
      "metadata": {
        "colab": {
          "base_uri": "https://localhost:8080/"
        },
        "id": "nFKTx2hkZYCh",
        "outputId": "529b0639-4ca9-4e47-bb95-e70329b7405a"
      },
      "execution_count": null,
      "outputs": [
        {
          "output_type": "stream",
          "name": "stdout",
          "text": [
            "Number of negative reviews: 4853\n",
            "Number of neutral reviews: 2720\n",
            "Number of positive reviews: 2140\n",
            "total review: 9713\n"
          ]
        }
      ]
    },
    {
      "cell_type": "code",
      "source": [
        "reviews.to_csv(dir_path + 'translated_reviews_sentiments.csv', index=False)"
      ],
      "metadata": {
        "id": "LBHGK-I0XSkU"
      },
      "execution_count": null,
      "outputs": []
    }
  ]
}
